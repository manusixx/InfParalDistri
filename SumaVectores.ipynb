{
 "cells": [
  {
   "cell_type": "code",
   "execution_count": 9,
   "id": "27be7225-6d9f-4d6e-94bb-e0680a8f7343",
   "metadata": {
    "editable": true,
    "slideshow": {
     "slide_type": ""
    },
    "tags": []
   },
   "outputs": [
    {
     "name": "stdout",
     "output_type": "stream",
     "text": [
      "Suma total: 499500\n",
      "Tiempo de ejecución: 0.03739619255065918 segundos\n"
     ]
    }
   ],
   "source": [
    "#Nombre: ETLTextos\n",
    "#Autor: PhD (C) Manuel Alejandro Pastrana Pardo\n",
    "#Fecha de Creación: 2025-02-13\n",
    "#Descripción: Ejemplo descomposición por dominio (datos).\n",
    "#Curso: Infraestructuras Paralelas y Distribuidas\n",
    "#Código: 750023C\n",
    "\n",
    "import multiprocessing\n",
    "import numpy as np\n",
    "import time\n",
    "\n",
    "def suma_parcial(vector, inicio, fin):\n",
    "    \"\"\"Calcula la suma de una porción del vector.\"\"\"\n",
    "    return np.sum(vector[inicio:fin])\n",
    "\n",
    "if __name__ == '__main__':\n",
    "    vector = np.arange(1000)  # Vector de 1000 elementos\n",
    "    num_procesos = 4\n",
    "    tamano_porcion = len(vector) // num_procesos\n",
    "    # Crear procesos\n",
    "    procesos = []\n",
    "    resultados = multiprocessing.Queue()\n",
    "\n",
    "    inicio = time.time()  # Tiempo de inicio\n",
    "\n",
    "    for i in range(num_procesos):\n",
    "        inicio_porcion = i * tamano_porcion\n",
    "        fin_porcion = (i + 1) * tamano_porcion if i < num_procesos - 1 else len(vector)\n",
    "        p = multiprocessing.Process(target=lambda v, i, f, q: q.put(suma_parcial(v, i, f)), args=(vector, inicio_porcion, fin_porcion, resultados))\n",
    "        procesos.append(p)\n",
    "        p.start()\n",
    "    # Esperar a que todos los procesos terminen\n",
    "    for p in procesos:\n",
    "        p.join()\n",
    "    # Recolectar los resultados parciales y calcular la suma total\n",
    "    suma_total = 0\n",
    "    while not resultados.empty():\n",
    "        suma_total += resultados.get()\n",
    "    fin = time.time()  # Tiempo de fin\n",
    "    tiempo_ejecucion = fin - inicio\n",
    "    print(\"Suma total:\", suma_total)\n",
    "    print(\"Tiempo de ejecución:\", tiempo_ejecucion, \"segundos\")\n"
   ]
  },
  {
   "cell_type": "code",
   "execution_count": 7,
   "id": "aab68ea4-c1d1-4716-9396-2683831685f2",
   "metadata": {},
   "outputs": [
    {
     "name": "stdout",
     "output_type": "stream",
     "text": [
      "Suma total: 499500\n",
      "Tiempo de ejecución: 5.459785461425781e-05 segundos\n"
     ]
    }
   ],
   "source": [
    "#Mismo ejemplo en forma secuencial\n",
    "import time\n",
    "import numpy as np\n",
    "\n",
    "def suma_secuencial(vector):\n",
    "    \"\"\"Calcula la suma de un vector de forma secuencial.\"\"\"\n",
    "    return np.sum(vector)\n",
    "\n",
    "if __name__ == '__main__':\n",
    "    vector = np.arange(1000)  # Vector de 1000 elementos\n",
    "\n",
    "    inicio = time.time()  # Tiempo de inicio\n",
    "    suma_total = suma_secuencial(vector)\n",
    "    fin = time.time()  # Tiempo de fin\n",
    "\n",
    "    tiempo_ejecucion = fin - inicio\n",
    "\n",
    "    print(\"Suma total:\", suma_total)\n",
    "    print(\"Tiempo de ejecución:\", tiempo_ejecucion, \"segundos\")"
   ]
  },
  {
   "cell_type": "code",
   "execution_count": null,
   "id": "9d7dd1cf-2038-425c-b557-c95197c346a7",
   "metadata": {},
   "outputs": [],
   "source": []
  }
 ],
 "metadata": {
  "kernelspec": {
   "display_name": "anaconda-2024.02-py310",
   "language": "python",
   "name": "conda-env-anaconda-2024.02-py310-py"
  },
  "language_info": {
   "codemirror_mode": {
    "name": "ipython",
    "version": 3
   },
   "file_extension": ".py",
   "mimetype": "text/x-python",
   "name": "python",
   "nbconvert_exporter": "python",
   "pygments_lexer": "ipython3",
   "version": "3.10.14"
  }
 },
 "nbformat": 4,
 "nbformat_minor": 5
}
