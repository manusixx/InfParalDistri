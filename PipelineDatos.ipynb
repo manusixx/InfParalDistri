{
 "cells": [
  {
   "cell_type": "code",
   "execution_count": 3,
   "id": "04d03ded-188b-48a3-ad4d-2c0ec5ff432b",
   "metadata": {
    "editable": true,
    "slideshow": {
     "slide_type": ""
    },
    "tags": []
   },
   "outputs": [
    {
     "name": "stdout",
     "output_type": "stream",
     "text": [
      "Proceso completado.\n"
     ]
    }
   ],
   "source": [
    "#Nombre: ETLTextos\n",
    "#Autor: PhD (C) Manuel Alejandro Pastrana Pardo\n",
    "#Fecha de Creación: 2025-02-13\n",
    "#Descripción: Ejemplo descomposición por tareas (funcional).\n",
    "#Curso: Infraestructuras Paralelas y Distribuidas\n",
    "#Código: 750023C\n",
    "\n",
    "import multiprocessing\n",
    "import time\n",
    "\n",
    "def leer_datos(archivo_entrada, cola):\n",
    "    \"\"\"Lee datos del archivo y los envía a la cola.\"\"\"\n",
    "    with open(archivo_entrada, 'r') as f:\n",
    "        for linea in f:\n",
    "            cola.put(linea.strip())\n",
    "    cola.put(None)  # Señal de fin\n",
    "\n",
    "def limpiar_datos(cola_entrada, cola_salida):\n",
    "    \"\"\"Limpia los datos y los envía a la siguiente cola.\"\"\"\n",
    "    while True:\n",
    "        dato = cola_entrada.get()\n",
    "        if dato is None:\n",
    "            cola_salida.put(None)\n",
    "            break\n",
    "        dato_limpio = dato.replace(',', '.')  # Ejemplo de limpieza\n",
    "        cola_salida.put(dato_limpio)\n",
    "\n",
    "def transformar_datos(cola_entrada, cola_salida):\n",
    "    \"\"\"Transforma los datos y los envía a la siguiente cola.\"\"\"\n",
    "    while True:\n",
    "        dato = cola_entrada.get()\n",
    "        if dato is None:\n",
    "            cola_salida.put(None)\n",
    "            break\n",
    "        dato_transformado = float(dato) * 2  # Ejemplo de transformación\n",
    "        cola_salida.put(dato_transformado)\n",
    "\n",
    "def escribir_datos(cola_entrada, archivo_salida):\n",
    "    \"\"\"Escribe los datos transformados al archivo de salida.\"\"\"\n",
    "    with open(archivo_salida, 'w') as f:\n",
    "        while True:\n",
    "            dato = cola_entrada.get()\n",
    "            if dato is None:\n",
    "                break\n",
    "            f.write(str(dato) + '\\n')\n",
    "\n",
    "if __name__ == '__main__':\n",
    "    # Crear colas\n",
    "    cola_lectura = multiprocessing.Queue()\n",
    "    cola_limpieza = multiprocessing.Queue()\n",
    "    cola_transformacion = multiprocessing.Queue()\n",
    "\n",
    "    # Crear procesos\n",
    "    proceso_lectura = multiprocessing.Process(target=leer_datos, args=('02_SesiónIV/entrada.txt', cola_lectura))\n",
    "    proceso_limpieza = multiprocessing.Process(target=limpiar_datos, args=(cola_lectura, cola_limpieza))\n",
    "    proceso_transformacion = multiprocessing.Process(target=transformar_datos, args=(cola_limpieza, cola_transformacion))\n",
    "    proceso_escritura = multiprocessing.Process(target=escribir_datos, args=(cola_transformacion, '02_SesiónIV/salida.txt'))\n",
    "\n",
    "    # Iniciar procesos\n",
    "    proceso_lectura.start()\n",
    "    proceso_limpieza.start()\n",
    "    proceso_transformacion.start()\n",
    "    proceso_escritura.start()\n",
    "\n",
    "    # Esperar a que terminen\n",
    "    proceso_lectura.join()\n",
    "    proceso_limpieza.join()\n",
    "    proceso_transformacion.join()\n",
    "    proceso_escritura.join()\n",
    "\n",
    "    print(\"Proceso completado.\")\n"
   ]
  },
  {
   "cell_type": "code",
   "execution_count": null,
   "id": "1be721da-9e91-4e77-bba6-81c50b45171c",
   "metadata": {},
   "outputs": [],
   "source": []
  }
 ],
 "metadata": {
  "kernelspec": {
   "display_name": "anaconda-2024.02-py310",
   "language": "python",
   "name": "conda-env-anaconda-2024.02-py310-py"
  },
  "language_info": {
   "codemirror_mode": {
    "name": "ipython",
    "version": 3
   },
   "file_extension": ".py",
   "mimetype": "text/x-python",
   "name": "python",
   "nbconvert_exporter": "python",
   "pygments_lexer": "ipython3",
   "version": "3.10.14"
  }
 },
 "nbformat": 4,
 "nbformat_minor": 5
}
