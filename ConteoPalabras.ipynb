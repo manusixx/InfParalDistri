{
 "cells": [
  {
   "cell_type": "code",
   "execution_count": 11,
   "id": "5f8268a0-58bf-4d4f-9e0c-c9cb52cdd73f",
   "metadata": {
    "editable": true,
    "slideshow": {
     "slide_type": ""
    },
    "tags": []
   },
   "outputs": [
    {
     "name": "stdout",
     "output_type": "stream",
     "text": [
      "defaultdict(<class 'int'>, {'palabra1': 3, 'palabra2': 2, 'palabra3': 1})\n"
     ]
    }
   ],
   "source": [
    "#Nombre: ConteoPalabras\n",
    "#Autor: PhD (C) Manuel Alejandro Pastrana Pardo\n",
    "#Fecha de Creación: 2025-02-17\n",
    "#Descripción: Clase que identifica el número de veces que aparece una palabra en una cadena de texto.\n",
    "#Curso: Infraestructuras Paralelas y Distribuidas\n",
    "#Código: 750023C\n",
    "\n",
    "from collections import defaultdict\n",
    "import threading\n",
    "\n",
    "# Función para contar palabras en una sección del documento\n",
    "def map_function(document_section, results, index):\n",
    "    word_count = defaultdict(int)  # Usamos defaultdict para simplificar la suma\n",
    "    for word in document_section.split():  # Dividimos por palabras completas\n",
    "        word_count[word] += 1\n",
    "    results[index] = word_count  # Guardamos el resultado en el índice correspondiente\n",
    "\n",
    "# Función para combinar los resultados del mapeo\n",
    "def reduce_function(mapped_results):\n",
    "    total_count = defaultdict(int)\n",
    "    for count in mapped_results:\n",
    "        for word, num in count.items():\n",
    "            total_count[word] += num\n",
    "    return total_count\n",
    "\n",
    "# Función principal para ejecutar el proceso MapReduce\n",
    "def main(document):\n",
    "    words = document.split()  # Dividimos el documento en una lista de palabras\n",
    "    num_sections = 4  # Número de secciones a dividir\n",
    "    section_size = len(words) // num_sections  # Tamaño de cada sección\n",
    "    sections = [words[i * section_size:(i + 1) * section_size] for i in range(num_sections)]\n",
    "    \n",
    "    # Asegurarnos de incluir las palabras restantes (si no es divisible exactamente)\n",
    "    if len(words) % num_sections != 0:\n",
    "        sections[-1].extend(words[num_sections * section_size:])\n",
    "\n",
    "    threads = []\n",
    "    results = [None] * len(sections)  # Lista para almacenar los resultados del mapeo\n",
    "\n",
    "    # Crear hilos para la fase de mapeo\n",
    "    for i, section in enumerate(sections):\n",
    "        thread = threading.Thread(target=map_function, args=(\" \".join(section), results, i))\n",
    "        threads.append(thread)\n",
    "        thread.start()\n",
    "\n",
    "    # Esperar a que todos los hilos terminen\n",
    "    for thread in threads:\n",
    "        thread.join()\n",
    "\n",
    "    # Combinar resultados\n",
    "    final_result = reduce_function(results)\n",
    "    \n",
    "    return final_result\n",
    "\n",
    "# Ejemplo de uso\n",
    "document = \"palabra1 palabra2 palabra1 palabra3 palabra2 palabra1\"\n",
    "result = main(document)\n",
    "print(result)"
   ]
  }
 ],
 "metadata": {
  "kernelspec": {
   "display_name": "anaconda-2024.02-py310",
   "language": "python",
   "name": "conda-env-anaconda-2024.02-py310-py"
  },
  "language_info": {
   "codemirror_mode": {
    "name": "ipython",
    "version": 3
   },
   "file_extension": ".py",
   "mimetype": "text/x-python",
   "name": "python",
   "nbconvert_exporter": "python",
   "pygments_lexer": "ipython3",
   "version": "3.10.14"
  }
 },
 "nbformat": 4,
 "nbformat_minor": 5
}
