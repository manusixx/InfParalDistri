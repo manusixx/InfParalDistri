{
 "cells": [
  {
   "cell_type": "code",
   "execution_count": 8,
   "id": "8aacb67e-8415-4309-be3d-5ec7d6243b1b",
   "metadata": {
    "editable": true,
    "slideshow": {
     "slide_type": ""
    },
    "tags": []
   },
   "outputs": [
    {
     "name": "stdout",
     "output_type": "stream",
     "text": [
      "La suma de los cuadrados es: 385\n"
     ]
    }
   ],
   "source": [
    "#Nombre: SumaCuadrados\n",
    "#Autor: PhD (C) Manuel Alejandro Pastrana Pardo\n",
    "#Fecha de Creación: 2025-02-17\n",
    "#Descripción: Clase que realiza la suma de los cuadrados de los números de un listado dado.\n",
    "#Curso: Infraestructuras Paralelas y Distribuidas\n",
    "#Código: 750023C\n",
    "\n",
    "import threading\n",
    "\n",
    "# Función para calcular el cuadrado de los números en una sección\n",
    "def map_function(number_section, results, index):\n",
    "    squared_sum = sum(x ** 2 for x in number_section)  # Calcular la suma de cuadrados\n",
    "    results[index] = squared_sum  # Guardar el resultado en el índice correspondiente\n",
    "\n",
    "# Función para combinar los resultados del mapeo\n",
    "def reduce_function(mapped_results):\n",
    "    return sum(mapped_results)  # Sumar todos los resultados del mapeo\n",
    "\n",
    "# Función principal para ejecutar el proceso MapReduce\n",
    "def main(numbers):\n",
    "    num_sections = 4  # Número de secciones a dividir\n",
    "    section_size = len(numbers) // num_sections\n",
    "    threads = []\n",
    "    results = [0] * num_sections  # Lista para almacenar los resultados del mapeo\n",
    "\n",
    "    # Crear hilos para la fase de mapeo\n",
    "    for i in range(num_sections):\n",
    "        start_index = i * section_size\n",
    "        end_index = start_index + section_size if i < num_sections - 1 else len(numbers)\n",
    "        thread = threading.Thread(target=map_function, args=(numbers[start_index:end_index], results, i))\n",
    "        threads.append(thread)\n",
    "        thread.start()\n",
    "\n",
    "    # Esperar a que todos los hilos terminen\n",
    "    for thread in threads:\n",
    "        thread.join()\n",
    "\n",
    "    # Combinar resultados\n",
    "    final_result = reduce_function(results)\n",
    "    \n",
    "    return final_result\n",
    "\n",
    "# Ejemplo de uso\n",
    "numbers = [1, 2, 3, 4, 5, 6, 7, 8, 9, 10]\n",
    "result = main(numbers)\n",
    "print(f\"La suma de los cuadrados es: {result}\")\n"
   ]
  },
  {
   "cell_type": "code",
   "execution_count": null,
   "id": "d97947b0-2908-4183-9389-b678fa1c4435",
   "metadata": {
    "editable": true,
    "slideshow": {
     "slide_type": ""
    },
    "tags": []
   },
   "outputs": [],
   "source": []
  }
 ],
 "metadata": {
  "kernelspec": {
   "display_name": "anaconda-2024.02-py310",
   "language": "python",
   "name": "conda-env-anaconda-2024.02-py310-py"
  },
  "language_info": {
   "codemirror_mode": {
    "name": "ipython",
    "version": 3
   },
   "file_extension": ".py",
   "mimetype": "text/x-python",
   "name": "python",
   "nbconvert_exporter": "python",
   "pygments_lexer": "ipython3",
   "version": "3.10.14"
  }
 },
 "nbformat": 4,
 "nbformat_minor": 5
}
